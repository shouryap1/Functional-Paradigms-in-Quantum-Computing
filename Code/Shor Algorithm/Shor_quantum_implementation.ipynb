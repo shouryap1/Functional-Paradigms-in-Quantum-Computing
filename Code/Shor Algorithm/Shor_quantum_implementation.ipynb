{
  "cells": [
    {
      "cell_type": "markdown",
      "source": [
        "###Installing Dependencies"
      ],
      "metadata": {
        "id": "pNFuf67cEBbH"
      }
    },
    {
      "cell_type": "code",
      "source": [
        "pip install qiskit"
      ],
      "metadata": {
        "colab": {
          "base_uri": "https://localhost:8080/"
        },
        "id": "RF8L4PwVEuyt",
        "outputId": "5f46a966-900f-4eb4-d7e5-148bcd3c028a"
      },
      "execution_count": 2,
      "outputs": [
        {
          "output_type": "stream",
          "name": "stdout",
          "text": [
            "Collecting qiskit\n",
            "  Downloading qiskit-1.0.2-cp38-abi3-manylinux_2_17_x86_64.manylinux2014_x86_64.whl (5.6 MB)\n",
            "\u001b[2K     \u001b[90m━━━━━━━━━━━━━━━━━━━━━━━━━━━━━━━━━━━━━━━━\u001b[0m \u001b[32m5.6/5.6 MB\u001b[0m \u001b[31m16.4 MB/s\u001b[0m eta \u001b[36m0:00:00\u001b[0m\n",
            "\u001b[?25hCollecting rustworkx>=0.14.0 (from qiskit)\n",
            "  Downloading rustworkx-0.14.2-cp310-cp310-manylinux_2_17_x86_64.manylinux2014_x86_64.whl (2.1 MB)\n",
            "\u001b[2K     \u001b[90m━━━━━━━━━━━━━━━━━━━━━━━━━━━━━━━━━━━━━━━━\u001b[0m \u001b[32m2.1/2.1 MB\u001b[0m \u001b[31m51.6 MB/s\u001b[0m eta \u001b[36m0:00:00\u001b[0m\n",
            "\u001b[?25hRequirement already satisfied: numpy<2,>=1.17 in /usr/local/lib/python3.10/dist-packages (from qiskit) (1.25.2)\n",
            "Requirement already satisfied: scipy>=1.5 in /usr/local/lib/python3.10/dist-packages (from qiskit) (1.11.4)\n",
            "Requirement already satisfied: sympy>=1.3 in /usr/local/lib/python3.10/dist-packages (from qiskit) (1.12)\n",
            "Collecting dill>=0.3 (from qiskit)\n",
            "  Downloading dill-0.3.8-py3-none-any.whl (116 kB)\n",
            "\u001b[2K     \u001b[90m━━━━━━━━━━━━━━━━━━━━━━━━━━━━━━━━━━━━━━━━\u001b[0m \u001b[32m116.3/116.3 kB\u001b[0m \u001b[31m12.6 MB/s\u001b[0m eta \u001b[36m0:00:00\u001b[0m\n",
            "\u001b[?25hRequirement already satisfied: python-dateutil>=2.8.0 in /usr/local/lib/python3.10/dist-packages (from qiskit) (2.8.2)\n",
            "Collecting stevedore>=3.0.0 (from qiskit)\n",
            "  Downloading stevedore-5.2.0-py3-none-any.whl (49 kB)\n",
            "\u001b[2K     \u001b[90m━━━━━━━━━━━━━━━━━━━━━━━━━━━━━━━━━━━━━━━━\u001b[0m \u001b[32m49.7/49.7 kB\u001b[0m \u001b[31m5.3 MB/s\u001b[0m eta \u001b[36m0:00:00\u001b[0m\n",
            "\u001b[?25hRequirement already satisfied: typing-extensions in /usr/local/lib/python3.10/dist-packages (from qiskit) (4.11.0)\n",
            "Collecting symengine>=0.11 (from qiskit)\n",
            "  Downloading symengine-0.11.0-cp310-cp310-manylinux_2_12_x86_64.manylinux2010_x86_64.whl (39.4 MB)\n",
            "\u001b[2K     \u001b[90m━━━━━━━━━━━━━━━━━━━━━━━━━━━━━━━━━━━━━━━━\u001b[0m \u001b[32m39.4/39.4 MB\u001b[0m \u001b[31m11.7 MB/s\u001b[0m eta \u001b[36m0:00:00\u001b[0m\n",
            "\u001b[?25hRequirement already satisfied: six>=1.5 in /usr/local/lib/python3.10/dist-packages (from python-dateutil>=2.8.0->qiskit) (1.16.0)\n",
            "Collecting pbr!=2.1.0,>=2.0.0 (from stevedore>=3.0.0->qiskit)\n",
            "  Downloading pbr-6.0.0-py2.py3-none-any.whl (107 kB)\n",
            "\u001b[2K     \u001b[90m━━━━━━━━━━━━━━━━━━━━━━━━━━━━━━━━━━━━━━━━\u001b[0m \u001b[32m107.5/107.5 kB\u001b[0m \u001b[31m11.5 MB/s\u001b[0m eta \u001b[36m0:00:00\u001b[0m\n",
            "\u001b[?25hRequirement already satisfied: mpmath>=0.19 in /usr/local/lib/python3.10/dist-packages (from sympy>=1.3->qiskit) (1.3.0)\n",
            "Installing collected packages: symengine, rustworkx, pbr, dill, stevedore, qiskit\n",
            "Successfully installed dill-0.3.8 pbr-6.0.0 qiskit-1.0.2 rustworkx-0.14.2 stevedore-5.2.0 symengine-0.11.0\n"
          ]
        }
      ]
    },
    {
      "cell_type": "code",
      "source": [
        "pip install qiskit_aer"
      ],
      "metadata": {
        "colab": {
          "base_uri": "https://localhost:8080/"
        },
        "id": "vf9IGMqxHdf5",
        "outputId": "daef3a09-5282-436f-eccf-21de958199cf"
      },
      "execution_count": 3,
      "outputs": [
        {
          "output_type": "stream",
          "name": "stdout",
          "text": [
            "Collecting qiskit_aer\n",
            "  Downloading qiskit_aer-0.14.1-cp310-cp310-manylinux_2_17_x86_64.manylinux2014_x86_64.whl (12.3 MB)\n",
            "\u001b[2K     \u001b[90m━━━━━━━━━━━━━━━━━━━━━━━━━━━━━━━━━━━━━━━━\u001b[0m \u001b[32m12.3/12.3 MB\u001b[0m \u001b[31m18.4 MB/s\u001b[0m eta \u001b[36m0:00:00\u001b[0m\n",
            "\u001b[?25hRequirement already satisfied: qiskit>=0.45.0 in /usr/local/lib/python3.10/dist-packages (from qiskit_aer) (1.0.2)\n",
            "Requirement already satisfied: numpy>=1.16.3 in /usr/local/lib/python3.10/dist-packages (from qiskit_aer) (1.25.2)\n",
            "Requirement already satisfied: scipy>=1.0 in /usr/local/lib/python3.10/dist-packages (from qiskit_aer) (1.11.4)\n",
            "Requirement already satisfied: psutil>=5 in /usr/local/lib/python3.10/dist-packages (from qiskit_aer) (5.9.5)\n",
            "Requirement already satisfied: rustworkx>=0.14.0 in /usr/local/lib/python3.10/dist-packages (from qiskit>=0.45.0->qiskit_aer) (0.14.2)\n",
            "Requirement already satisfied: sympy>=1.3 in /usr/local/lib/python3.10/dist-packages (from qiskit>=0.45.0->qiskit_aer) (1.12)\n",
            "Requirement already satisfied: dill>=0.3 in /usr/local/lib/python3.10/dist-packages (from qiskit>=0.45.0->qiskit_aer) (0.3.8)\n",
            "Requirement already satisfied: python-dateutil>=2.8.0 in /usr/local/lib/python3.10/dist-packages (from qiskit>=0.45.0->qiskit_aer) (2.8.2)\n",
            "Requirement already satisfied: stevedore>=3.0.0 in /usr/local/lib/python3.10/dist-packages (from qiskit>=0.45.0->qiskit_aer) (5.2.0)\n",
            "Requirement already satisfied: typing-extensions in /usr/local/lib/python3.10/dist-packages (from qiskit>=0.45.0->qiskit_aer) (4.11.0)\n",
            "Requirement already satisfied: symengine>=0.11 in /usr/local/lib/python3.10/dist-packages (from qiskit>=0.45.0->qiskit_aer) (0.11.0)\n",
            "Requirement already satisfied: six>=1.5 in /usr/local/lib/python3.10/dist-packages (from python-dateutil>=2.8.0->qiskit>=0.45.0->qiskit_aer) (1.16.0)\n",
            "Requirement already satisfied: pbr!=2.1.0,>=2.0.0 in /usr/local/lib/python3.10/dist-packages (from stevedore>=3.0.0->qiskit>=0.45.0->qiskit_aer) (6.0.0)\n",
            "Requirement already satisfied: mpmath>=0.19 in /usr/local/lib/python3.10/dist-packages (from sympy>=1.3->qiskit>=0.45.0->qiskit_aer) (1.3.0)\n",
            "Installing collected packages: qiskit_aer\n",
            "Successfully installed qiskit_aer-0.14.1\n"
          ]
        }
      ]
    },
    {
      "cell_type": "code",
      "source": [
        "pip install pylatexenc"
      ],
      "metadata": {
        "colab": {
          "base_uri": "https://localhost:8080/"
        },
        "id": "uevYX0IkKN6Y",
        "outputId": "c8bf4232-a91a-42b4-bcef-c5932adfc4e1"
      },
      "execution_count": 4,
      "outputs": [
        {
          "output_type": "stream",
          "name": "stdout",
          "text": [
            "Collecting pylatexenc\n",
            "  Downloading pylatexenc-2.10.tar.gz (162 kB)\n",
            "\u001b[2K     \u001b[90m━━━━━━━━━━━━━━━━━━━━━━━━━━━━━━━━━━━━━━━━\u001b[0m \u001b[32m162.6/162.6 kB\u001b[0m \u001b[31m1.6 MB/s\u001b[0m eta \u001b[36m0:00:00\u001b[0m\n",
            "\u001b[?25h  Preparing metadata (setup.py) ... \u001b[?25l\u001b[?25hdone\n",
            "Building wheels for collected packages: pylatexenc\n",
            "  Building wheel for pylatexenc (setup.py) ... \u001b[?25l\u001b[?25hdone\n",
            "  Created wheel for pylatexenc: filename=pylatexenc-2.10-py3-none-any.whl size=136816 sha256=03caa8ea2c5ea7996c67fb77f13aca50ede6e75afd6f996e4c260635ddc1cdde\n",
            "  Stored in directory: /root/.cache/pip/wheels/d3/31/8b/e09b0386afd80cfc556c00408c9aeea5c35c4d484a9c762fd5\n",
            "Successfully built pylatexenc\n",
            "Installing collected packages: pylatexenc\n",
            "Successfully installed pylatexenc-2.10\n"
          ]
        }
      ]
    },
    {
      "cell_type": "code",
      "execution_count": 5,
      "metadata": {
        "id": "_0bWthDwc44I"
      },
      "outputs": [],
      "source": [
        "import qiskit\n",
        "import math\n",
        "import pylatexenc\n",
        "# qiskit.__qiskit_version__"
      ]
    },
    {
      "cell_type": "markdown",
      "metadata": {
        "id": "rT_5x5yFc44c"
      },
      "source": [
        "## Implementation <a id='implementation'></a>"
      ]
    },
    {
      "cell_type": "code",
      "execution_count": 15,
      "metadata": {
        "ExecuteTime": {
          "end_time": "2018-09-26T17:12:32.454145Z",
          "start_time": "2018-09-26T17:12:30.093921Z"
        },
        "id": "C5EPZC1Mc44d"
      },
      "outputs": [],
      "source": [
        "# from qiskit import BasicAer, transpile\n",
        "from qiskit import transpile\n",
        "from qiskit_aer import Aer as BasicAer\n",
        "from qiskit import QuantumCircuit, ClassicalRegister, QuantumRegister\n",
        "from qiskit.visualization import plot_histogram"
      ]
    },
    {
      "cell_type": "markdown",
      "metadata": {
        "id": "Ma_82H15c44d"
      },
      "source": [
        "First we'll construct the $a^1 \\bmod 15$ circuits for $a = 2,7,8,11,13$ as in **E**:"
      ]
    },
    {
      "cell_type": "code",
      "execution_count": 16,
      "metadata": {
        "ExecuteTime": {
          "end_time": "2018-09-26T17:12:32.467183Z",
          "start_time": "2018-09-26T17:12:32.459175Z"
        },
        "id": "KQNFAW-jc44e"
      },
      "outputs": [],
      "source": [
        "# qc = quantum circuit, qr = quantum register, cr = classical register, a = 2, 7, 8, 11 or 13\n",
        "def circuit_amod15(qc,qr,cr,a):\n",
        "    if a == 2:\n",
        "        qc.cswap(qr[4],qr[3],qr[2])\n",
        "        qc.cswap(qr[4],qr[2],qr[1])\n",
        "        qc.cswap(qr[4],qr[1],qr[0])\n",
        "    elif a == 7:\n",
        "        qc.cswap(qr[4],qr[1],qr[0])\n",
        "        qc.cswap(qr[4],qr[2],qr[1])\n",
        "        qc.cswap(qr[4],qr[3],qr[2])\n",
        "        qc.cx(qr[4],qr[3])\n",
        "        qc.cx(qr[4],qr[2])\n",
        "        qc.cx(qr[4],qr[1])\n",
        "        qc.cx(qr[4],qr[0])\n",
        "    elif a == 8:\n",
        "        qc.cswap(qr[4],qr[1],qr[0])\n",
        "        qc.cswap(qr[4],qr[2],qr[1])\n",
        "        qc.cswap(qr[4],qr[3],qr[2])\n",
        "    elif a == 11: # this is included for completeness\n",
        "        qc.cswap(qr[4],qr[2],qr[0])\n",
        "        qc.cswap(qr[4],qr[3],qr[1])\n",
        "        qc.cx(qr[4],qr[3])\n",
        "        qc.cx(qr[4],qr[2])\n",
        "        qc.cx(qr[4],qr[1])\n",
        "        qc.cx(qr[4],qr[0])\n",
        "    elif a == 13:\n",
        "        qc.cswap(qr[4],qr[3],qr[2])\n",
        "        qc.cswap(qr[4],qr[2],qr[1])\n",
        "        qc.cswap(qr[4],qr[1],qr[0])\n",
        "        qc.cx(qr[4],qr[3])\n",
        "        qc.cx(qr[4],qr[2])\n",
        "        qc.cx(qr[4],qr[1])\n",
        "        qc.cx(qr[4],qr[0])"
      ]
    },
    {
      "cell_type": "code",
      "execution_count": 17,
      "metadata": {
        "ExecuteTime": {
          "end_time": "2018-09-26T17:12:32.481843Z",
          "start_time": "2018-09-26T17:12:32.470502Z"
        },
        "id": "ko1h8sVvc44e"
      },
      "outputs": [],
      "source": [
        "# qc = quantum circuit, qr = quantum register, cr = classical register, a = 2, 7, 8, 11 or 13\n",
        "def circuit_aperiod15(qc,qr,cr,a):\n",
        "    if a == 11:\n",
        "        circuit_11period15(qc,qr,cr)\n",
        "        return\n",
        "\n",
        "    # Initialize q[0] to |1>\n",
        "    qc.x(qr[0])\n",
        "\n",
        "    # Apply a**4 mod 15\n",
        "    qc.h(qr[4])\n",
        "    #   controlled identity on the remaining 4 qubits, which is equivalent to doing nothing\n",
        "    qc.h(qr[4])\n",
        "    #   measure\n",
        "    qc.measure(qr[4],cr[0])\n",
        "    #   reinitialise q[4] to |0>\n",
        "    qc.reset(qr[4])\n",
        "\n",
        "    # Apply a**2 mod 15\n",
        "    qc.h(qr[4])\n",
        "    #   controlled unitary\n",
        "    qc.cx(qr[4],qr[2])\n",
        "    qc.cx(qr[4],qr[0])\n",
        "    #   feed forward\n",
        "    qc.u(math.pi/2.,0, 0, qr[4]).c_if(cr, 1)\n",
        "    qc.h(qr[4])\n",
        "    #   measure\n",
        "    qc.measure(qr[4],cr[1])\n",
        "    #   reinitialise q[4] to |0>\n",
        "    qc.reset(qr[4])\n",
        "\n",
        "    # Apply a mod 15\n",
        "    qc.h(qr[4])\n",
        "    #   controlled unitary.\n",
        "    circuit_amod15(qc,qr,cr,a)\n",
        "    #   feed forward\n",
        "    qc.u(3.*math.pi/4.,0 ,0 ,qr[4]).c_if(cr, 3)\n",
        "    qc.u(math.pi/2.,0,0,qr[4]).c_if(cr, 2)\n",
        "    qc.u(math.pi/4.,0,0,qr[4]).c_if(cr, 1)\n",
        "    qc.h(qr[4])\n",
        "    #   measure\n",
        "    qc.measure(qr[4],cr[2])"
      ]
    },
    {
      "cell_type": "code",
      "execution_count": 18,
      "metadata": {
        "ExecuteTime": {
          "end_time": "2018-09-26T17:12:32.493545Z",
          "start_time": "2018-09-26T17:12:32.484582Z"
        },
        "id": "TmJ_4YaUc44f"
      },
      "outputs": [],
      "source": [
        "def circuit_11period15(qc,qr,cr):\n",
        "    # Initialize q[0] to |1>\n",
        "    qc.x(qr[0])\n",
        "\n",
        "    # Apply a**4 mod 15\n",
        "    qc.h(qr[4])\n",
        "    #   controlled identity on the remaining 4 qubits, which is equivalent to doing nothing\n",
        "    qc.h(qr[4])\n",
        "    #   measure\n",
        "    qc.measure(qr[4],cr[0])\n",
        "    #   reinitialise q[4] to |0>\n",
        "    qc.reset(qr[4])\n",
        "\n",
        "    # Apply a**2 mod 15\n",
        "    qc.h(qr[4])\n",
        "    #   controlled identity on the remaining 4 qubits, which is equivalent to doing nothing\n",
        "    #   feed forward\n",
        "    qc.u1(math.pi/2.,qr[4]).c_if(cr, 1)\n",
        "    qc.h(qr[4])\n",
        "    #   measure\n",
        "    qc.measure(qr[4],cr[1])\n",
        "    #   reinitialise q[4] to |0>\n",
        "    qc.reset(qr[4])\n",
        "\n",
        "    # Apply 11 mod 15\n",
        "    qc.h(qr[4])\n",
        "    #   controlled unitary.\n",
        "    qc.cx(qr[4],qr[3])\n",
        "    qc.cx(qr[4],qr[1])\n",
        "    #   feed forward\n",
        "    qc.u1(3.*math.pi/4.,qr[4]).c_if(cr, 3)\n",
        "    qc.u1(math.pi/2.,qr[4]).c_if(cr, 2)\n",
        "    qc.u1(math.pi/4.,qr[4]).c_if(cr, 1)\n",
        "    qc.h(qr[4])\n",
        "    #   measure\n",
        "    qc.measure(qr[4],cr[2])"
      ]
    },
    {
      "cell_type": "markdown",
      "metadata": {
        "id": "AgaXw1Nkc44f"
      },
      "source": [
        "Now we will build and run a circuit for $a = 7$, and plot the the circuit and results:"
      ]
    },
    {
      "cell_type": "code",
      "execution_count": 19,
      "metadata": {
        "ExecuteTime": {
          "end_time": "2018-09-26T17:12:32.830902Z",
          "start_time": "2018-09-26T17:12:32.495963Z"
        },
        "id": "Rp7omjAYc44f",
        "colab": {
          "base_uri": "https://localhost:8080/",
          "height": 292
        },
        "outputId": "40a0849c-1722-4edd-a179-5461f74a5458"
      },
      "outputs": [
        {
          "output_type": "execute_result",
          "data": {
            "text/plain": [
              "<Figure size 2126.94x535.111 with 1 Axes>"
            ],
            "image/png": "[encoded data removed]"
          },
          "metadata": {},
          "execution_count": 19
        }
      ],
      "source": [
        "q = QuantumRegister(5, 'q')\n",
        "c = ClassicalRegister(5, 'c')\n",
        "\n",
        "shor = QuantumCircuit(q, c)\n",
        "circuit_aperiod15(shor,q,c,7)\n",
        "shor.draw(output='mpl')"
      ]
    },
    {
      "cell_type": "code",
      "source": [
        "backend = BasicAer.get_backend('qasm_simulator')\n",
        "\n",
        "transpiled_circuit = transpile(shor, backend)\n",
        "\n",
        "qobj = transpile(transpiled_circuit)\n",
        "\n",
        "job = backend.run(qobj)\n",
        "\n",
        "result = job.result()\n",
        "\n",
        "counts = result.get_counts()\n",
        "\n",
        "plot_histogram(counts)"
      ],
      "metadata": {
        "colab": {
          "base_uri": "https://localhost:8080/",
          "height": 496
        },
        "id": "YG48zmHEL3ON",
        "outputId": "8813dc6f-bcea-43b1-f882-e7ea21421e36"
      },
      "execution_count": 20,
      "outputs": [
        {
          "output_type": "execute_result",
          "data": {
            "text/plain": [
              "<Figure size 700x500 with 1 Axes>"
            ],
            "image/png": "[encoded data removed]"
          },
          "metadata": {},
          "execution_count": 20
        }
      ]
    },
    {
      "cell_type": "code",
      "execution_count": 20,
      "metadata": {
        "id": "Acb6MTSnc44h"
      },
      "outputs": [],
      "source": []
    }
  ],
  "metadata": {
    "kernelspec": {
      "display_name": "Python 3",
      "name": "python3"
    },
    "language_info": {
      "codemirror_mode": {
        "name": "ipython",
        "version": 3
      },
      "file_extension": ".py",
      "mimetype": "text/x-python",
      "name": "python",
      "nbconvert_exporter": "python",
      "pygments_lexer": "ipython3",
      "version": "3.7.2"
    },
    "colab": {
      "provenance": []
    }
  },
  "nbformat": 4,
  "nbformat_minor": 0
}